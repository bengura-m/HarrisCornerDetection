{
 "cells": [
  {
   "cell_type": "code",
   "execution_count": 1,
   "id": "b665989b",
   "metadata": {},
   "outputs": [
    {
     "name": "stdout",
     "output_type": "stream",
     "text": [
      "[12, 12, 17]\n",
      "[10, 17, 19]\n",
      "[9, 6, 14]\n"
     ]
    }
   ],
   "source": [
    "# Given filter A and image B\n",
    "A = [\n",
    "    [0, 1, 2],\n",
    "    [2, 2, 0],\n",
    "    [0, 1, 2]\n",
    "]\n",
    "\n",
    "B = [\n",
    "    [3, 3, 2, 1, 0],\n",
    "    [0, 0, 1, 3, 1],\n",
    "    [3, 1, 2, 2, 3],\n",
    "    [2, 0, 0, 2, 2],\n",
    "    [2, 0, 0, 0, 1]\n",
    "]\n",
    "\n",
    "# Calculating the dimensions of A and B\n",
    "A_rows, A_cols = len(A), len(A[0])\n",
    "B_rows, B_cols = len(B), len(B[0])\n",
    "\n",
    "# Calculating the dimensions of the output matrix C\n",
    "C_rows = B_rows - A_rows + 1\n",
    "C_cols = B_cols - A_cols + 1\n",
    "\n",
    "\n",
    "# Initializing the output matrix C with zeros\n",
    "C = [[0] * C_cols for _ in range(C_rows)]\n",
    "\n",
    "# Perform cross-correlation between filter A and image B\n",
    "for i in range(C_rows):\n",
    "    for j in range(C_cols):\n",
    "        # Calculate the sum of element-wise products between A and the corresponding submatrix of B\n",
    "        for a_row in range(A_rows):\n",
    "            for a_col in range(A_cols):\n",
    "                C[i][j] += A[a_row][a_col] * B[i + a_row][j + a_col]\n",
    "\n",
    "# Print the resulting matrix C\n",
    "for row in C:\n",
    "    print(row)\n"
   ]
  },
  {
   "cell_type": "code",
   "execution_count": null,
   "id": "227ace17",
   "metadata": {},
   "outputs": [],
   "source": []
  }
 ],
 "metadata": {
  "kernelspec": {
   "display_name": "Python 3 (ipykernel)",
   "language": "python",
   "name": "python3"
  },
  "language_info": {
   "codemirror_mode": {
    "name": "ipython",
    "version": 3
   },
   "file_extension": ".py",
   "mimetype": "text/x-python",
   "name": "python",
   "nbconvert_exporter": "python",
   "pygments_lexer": "ipython3",
   "version": "3.10.11"
  }
 },
 "nbformat": 4,
 "nbformat_minor": 5
}
